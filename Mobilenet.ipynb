{
 "cells": [
  {
   "cell_type": "code",
   "execution_count": 1,
   "metadata": {},
   "outputs": [
    {
     "name": "stderr",
     "output_type": "stream",
     "text": [
      "Using TensorFlow backend.\n"
     ]
    }
   ],
   "source": [
    "import numpy as np  \n",
    "from keras.preprocessing.image import ImageDataGenerator, img_to_array, load_img  \n",
    "from keras.models import Sequential  \n",
    "from keras.layers import Dropout, Flatten, Dense  \n",
    "from keras import applications  \n",
    "from keras.utils.np_utils import to_categorical  \n",
    "import matplotlib.pyplot as plt  \n",
    "import math  \n",
    "\n",
    "# dimensions of our images \n",
    "img_width, img_height = 224, 224  \n",
    "\n",
    "weights_path = 'mobilenet_model.h5'  \n",
    "train_data_dir = 'train_val_test/train'  \n",
    "validation_data_dir = 'train_val_test/val'  \n",
    "test_data_dir = 'train_val_test/test'  \n",
    "   \n",
    " # number of epochs to train top model  \n",
    "epochs = 50  \n",
    " # batch size used by flow_from_directory and predict_generator  \n",
    "batch_size = 8  "
   ]
  },
  {
   "cell_type": "code",
   "execution_count": 2,
   "metadata": {},
   "outputs": [
    {
     "name": "stderr",
     "output_type": "stream",
     "text": [
      "C:\\Users\\juigu\\Anaconda2\\envs\\Python3\\lib\\site-packages\\keras_applications\\mobilenet.py:207: UserWarning: MobileNet shape is undefined. Weights for input shape (224, 224) will be loaded.\n",
      "  warnings.warn('MobileNet shape is undefined.'\n"
     ]
    },
    {
     "name": "stdout",
     "output_type": "stream",
     "text": [
      "Found 8185 images belonging to 120 classes.\n"
     ]
    }
   ],
   "source": [
    "model = applications.mobilenet.MobileNet(include_top=False, weights='imagenet')\n",
    "datagen = ImageDataGenerator(rescale=1. / 255)  \n",
    "   \n",
    "generator = datagen.flow_from_directory(  \n",
    "     train_data_dir,  \n",
    "     target_size=(img_width, img_height),  \n",
    "     batch_size=batch_size,  \n",
    "     class_mode=None,  \n",
    "     shuffle=False)  \n",
    "   \n",
    "nb_train_samples = len(generator.filenames)  \n",
    "num_classes = len(generator.class_indices)  \n",
    "   \n",
    "predict_size_train = int(math.ceil(nb_train_samples / batch_size))  \n",
    "   \n",
    "bottleneck_features_train = model.predict_generator(  \n",
    "     generator, predict_size_train)  \n",
    "   \n",
    "np.save('bottleneck_features_train_mob.npy', bottleneck_features_train)  "
   ]
  },
  {
   "cell_type": "code",
   "execution_count": 3,
   "metadata": {},
   "outputs": [
    {
     "name": "stdout",
     "output_type": "stream",
     "text": [
      "Found 1015 images belonging to 120 classes.\n"
     ]
    }
   ],
   "source": [
    "generator = datagen.flow_from_directory(  \n",
    "     validation_data_dir,  \n",
    "     target_size=(img_width, img_height),  \n",
    "     batch_size=batch_size,  \n",
    "     class_mode=None,  \n",
    "     shuffle=False)  \n",
    "   \n",
    "nb_validation_samples = len(generator.filenames)  \n",
    "   \n",
    "predict_size_validation = int(math.ceil(nb_validation_samples / batch_size))  \n",
    "   \n",
    "bottleneck_features_validation = model.predict_generator(  \n",
    "     generator, predict_size_validation)  \n",
    "   \n",
    "np.save('bottleneck_features_validation_mob.npy', bottleneck_features_validation) "
   ]
  },
  {
   "cell_type": "code",
   "execution_count": 4,
   "metadata": {},
   "outputs": [
    {
     "name": "stdout",
     "output_type": "stream",
     "text": [
      "Found 8185 images belonging to 120 classes.\n"
     ]
    }
   ],
   "source": [
    "datagen_top = ImageDataGenerator(rescale=1./255)  \n",
    "generator_top = datagen_top.flow_from_directory(  \n",
    "         train_data_dir,  \n",
    "         target_size=(img_width, img_height),  \n",
    "         batch_size=batch_size,  \n",
    "         class_mode='categorical',  \n",
    "         shuffle=False)  \n",
    "   \n",
    "nb_train_samples = len(generator_top.filenames)  \n",
    "num_classes = len(generator_top.class_indices)  \n",
    "   \n",
    " # load the bottleneck features saved earlier  \n",
    "train_data = np.load('bottleneck_features_train_mob.npy')  \n",
    "   \n",
    " # get the class lebels for the training data, in the original order  \n",
    "train_labels = generator_top.classes  \n",
    "   \n",
    "# convert the training labels to categorical vectors  \n",
    "train_labels = to_categorical(train_labels, num_classes=num_classes)  "
   ]
  },
  {
   "cell_type": "code",
   "execution_count": 5,
   "metadata": {},
   "outputs": [
    {
     "name": "stdout",
     "output_type": "stream",
     "text": [
      "Found 1015 images belonging to 120 classes.\n"
     ]
    }
   ],
   "source": [
    "generator_top = datagen_top.flow_from_directory(  \n",
    "         validation_data_dir,  \n",
    "         target_size=(img_width, img_height),  \n",
    "         batch_size=batch_size,  \n",
    "         class_mode=None,  \n",
    "         shuffle=False)  \n",
    "   \n",
    "nb_validation_samples = len(generator_top.filenames)  \n",
    "   \n",
    "validation_data = np.load('bottleneck_features_validation_mob.npy')  \n",
    "   \n",
    "validation_labels = generator_top.classes  \n",
    "validation_labels = to_categorical(validation_labels, num_classes=num_classes) "
   ]
  },
  {
   "cell_type": "code",
   "execution_count": 6,
   "metadata": {},
   "outputs": [
    {
     "name": "stdout",
     "output_type": "stream",
     "text": [
      "Train on 8185 samples, validate on 1015 samples\n",
      "Epoch 1/50\n",
      "8185/8185 [==============================] - 319s 39ms/step - loss: 15.9167 - acc: 0.0105 - val_loss: 15.9911 - val_acc: 0.0079\n",
      "Epoch 2/50\n",
      "8185/8185 [==============================] - 207s 25ms/step - loss: 15.9190 - acc: 0.0106 - val_loss: 15.7230 - val_acc: 0.0187\n",
      "Epoch 3/50\n",
      "8185/8185 [==============================] - 189s 23ms/step - loss: 15.8003 - acc: 0.0177 - val_loss: 15.6320 - val_acc: 0.0296\n",
      "Epoch 4/50\n",
      "8185/8185 [==============================] - 215s 26ms/step - loss: 15.7088 - acc: 0.0225 - val_loss: 15.6266 - val_acc: 0.0286\n",
      "Epoch 5/50\n",
      "8185/8185 [==============================] - 219s 27ms/step - loss: 15.6778 - acc: 0.0254 - val_loss: 15.5459 - val_acc: 0.0315\n",
      "Epoch 6/50\n",
      "8185/8185 [==============================] - 215s 26ms/step - loss: 15.5668 - acc: 0.0321 - val_loss: 15.3410 - val_acc: 0.0443\n",
      "Epoch 7/50\n",
      "8185/8185 [==============================] - 215s 26ms/step - loss: 15.4682 - acc: 0.0379 - val_loss: 15.2694 - val_acc: 0.0473\n",
      "Epoch 8/50\n",
      "8185/8185 [==============================] - 209s 26ms/step - loss: 15.3929 - acc: 0.0428 - val_loss: 15.2161 - val_acc: 0.0522\n",
      "Epoch 9/50\n",
      "8185/8185 [==============================] - 213s 26ms/step - loss: 15.2832 - acc: 0.0491 - val_loss: 15.0212 - val_acc: 0.0670\n",
      "Epoch 10/50\n",
      "8185/8185 [==============================] - 210s 26ms/step - loss: 15.2611 - acc: 0.0508 - val_loss: 15.0275 - val_acc: 0.0670\n",
      "Epoch 11/50\n",
      "8185/8185 [==============================] - 216s 26ms/step - loss: 15.1040 - acc: 0.0601 - val_loss: 14.8634 - val_acc: 0.0719\n",
      "Epoch 12/50\n",
      "8185/8185 [==============================] - 222s 27ms/step - loss: 14.9707 - acc: 0.0685 - val_loss: 14.5583 - val_acc: 0.0926\n",
      "Epoch 13/50\n",
      "8185/8185 [==============================] - 220s 27ms/step - loss: 14.7984 - acc: 0.0786 - val_loss: 14.5051 - val_acc: 0.0975\n",
      "Epoch 14/50\n",
      "8185/8185 [==============================] - 223s 27ms/step - loss: 14.7816 - acc: 0.0786 - val_loss: 14.3988 - val_acc: 0.1064\n",
      "Epoch 15/50\n",
      "8185/8185 [==============================] - 227s 28ms/step - loss: 14.6515 - acc: 0.0869 - val_loss: 14.3077 - val_acc: 0.1103\n",
      "Epoch 16/50\n",
      "8185/8185 [==============================] - 221s 27ms/step - loss: 14.5582 - acc: 0.0932 - val_loss: 14.4249 - val_acc: 0.1015\n",
      "Epoch 17/50\n",
      "8185/8185 [==============================] - 228s 28ms/step - loss: 14.4355 - acc: 0.0995 - val_loss: 14.1749 - val_acc: 0.1172\n",
      "Epoch 18/50\n",
      "8185/8185 [==============================] - 227s 28ms/step - loss: 14.3341 - acc: 0.1062 - val_loss: 14.1272 - val_acc: 0.1192\n",
      "Epoch 19/50\n",
      "8185/8185 [==============================] - 222s 27ms/step - loss: 14.3036 - acc: 0.1085 - val_loss: 14.0945 - val_acc: 0.1222\n",
      "Epoch 20/50\n",
      "8185/8185 [==============================] - 227s 28ms/step - loss: 14.2360 - acc: 0.1136 - val_loss: 13.9651 - val_acc: 0.1310\n",
      "Epoch 21/50\n",
      "8185/8185 [==============================] - 216s 26ms/step - loss: 14.1129 - acc: 0.1202 - val_loss: 13.8060 - val_acc: 0.1399\n",
      "Epoch 22/50\n",
      "8185/8185 [==============================] - 212s 26ms/step - loss: 13.9814 - acc: 0.1277 - val_loss: 13.7618 - val_acc: 0.1399\n",
      "Epoch 23/50\n",
      "8185/8185 [==============================] - 214s 26ms/step - loss: 13.9957 - acc: 0.1266 - val_loss: 13.7115 - val_acc: 0.1458\n",
      "Epoch 24/50\n",
      "8185/8185 [==============================] - 209s 25ms/step - loss: 13.8444 - acc: 0.1368 - val_loss: 13.4423 - val_acc: 0.1606\n",
      "Epoch 25/50\n",
      "8185/8185 [==============================] - 213s 26ms/step - loss: 13.7382 - acc: 0.1410 - val_loss: 13.5246 - val_acc: 0.1576\n",
      "Epoch 26/50\n",
      "8185/8185 [==============================] - 213s 26ms/step - loss: 13.6437 - acc: 0.1475 - val_loss: 13.4218 - val_acc: 0.1635\n",
      "Epoch 27/50\n",
      "8185/8185 [==============================] - 208s 25ms/step - loss: 13.4860 - acc: 0.1570 - val_loss: 13.3188 - val_acc: 0.1685\n",
      "Epoch 28/50\n",
      "8185/8185 [==============================] - 213s 26ms/step - loss: 13.4965 - acc: 0.1571 - val_loss: 13.0995 - val_acc: 0.1793\n",
      "Epoch 29/50\n",
      "8185/8185 [==============================] - 212s 26ms/step - loss: 13.3918 - acc: 0.1607 - val_loss: 12.9311 - val_acc: 0.1882\n",
      "Epoch 30/50\n",
      "8185/8185 [==============================] - 209s 26ms/step - loss: 13.3399 - acc: 0.1659 - val_loss: 12.8011 - val_acc: 0.1970\n",
      "Epoch 31/50\n",
      "8185/8185 [==============================] - 215s 26ms/step - loss: 13.2180 - acc: 0.1745 - val_loss: 12.5816 - val_acc: 0.2148\n",
      "Epoch 32/50\n",
      "8185/8185 [==============================] - 211s 26ms/step - loss: 13.0773 - acc: 0.1812 - val_loss: 12.6607 - val_acc: 0.2089\n",
      "Epoch 33/50\n",
      "8185/8185 [==============================] - 210s 26ms/step - loss: 12.9387 - acc: 0.1891 - val_loss: 12.6494 - val_acc: 0.2069\n",
      "Epoch 34/50\n",
      "8185/8185 [==============================] - 214s 26ms/step - loss: 12.8336 - acc: 0.1980 - val_loss: 12.5809 - val_acc: 0.2148\n",
      "Epoch 35/50\n",
      "8185/8185 [==============================] - 211s 26ms/step - loss: 12.6733 - acc: 0.2072 - val_loss: 12.3904 - val_acc: 0.2266\n",
      "Epoch 36/50\n",
      "8185/8185 [==============================] - 211s 26ms/step - loss: 12.5919 - acc: 0.2128 - val_loss: 12.4255 - val_acc: 0.2236\n",
      "Epoch 37/50\n",
      "8185/8185 [==============================] - 214s 26ms/step - loss: 12.5350 - acc: 0.2154 - val_loss: 12.2514 - val_acc: 0.2325\n",
      "Epoch 38/50\n",
      "8185/8185 [==============================] - 210s 26ms/step - loss: 12.4812 - acc: 0.2182 - val_loss: 12.3102 - val_acc: 0.2296\n",
      "Epoch 39/50\n",
      "8185/8185 [==============================] - 212s 26ms/step - loss: 12.5100 - acc: 0.2171 - val_loss: 12.1518 - val_acc: 0.2394\n",
      "Epoch 40/50\n",
      "8185/8185 [==============================] - 216s 26ms/step - loss: 12.4072 - acc: 0.2248 - val_loss: 12.1786 - val_acc: 0.2394\n",
      "Epoch 41/50\n",
      "8185/8185 [==============================] - 209s 26ms/step - loss: 12.2612 - acc: 0.2337 - val_loss: 12.0920 - val_acc: 0.2424\n",
      "Epoch 42/50\n",
      "8185/8185 [==============================] - 213s 26ms/step - loss: 12.1874 - acc: 0.2367 - val_loss: 12.0781 - val_acc: 0.2443\n",
      "Epoch 43/50\n",
      "8185/8185 [==============================] - 215s 26ms/step - loss: 12.1906 - acc: 0.2375 - val_loss: 12.0313 - val_acc: 0.2453\n",
      "Epoch 44/50\n",
      "8185/8185 [==============================] - 209s 26ms/step - loss: 12.1024 - acc: 0.2429 - val_loss: 12.1171 - val_acc: 0.2394\n",
      "Epoch 45/50\n",
      "8185/8185 [==============================] - 214s 26ms/step - loss: 12.0952 - acc: 0.2425 - val_loss: 12.0297 - val_acc: 0.2453\n",
      "Epoch 46/50\n",
      "8185/8185 [==============================] - 213s 26ms/step - loss: 12.0667 - acc: 0.2456 - val_loss: 12.0701 - val_acc: 0.2433\n",
      "Epoch 47/50\n",
      "8185/8185 [==============================] - 210s 26ms/step - loss: 11.9694 - acc: 0.2512 - val_loss: 11.9353 - val_acc: 0.2522\n",
      "Epoch 48/50\n",
      "8185/8185 [==============================] - 214s 26ms/step - loss: 11.9964 - acc: 0.2498 - val_loss: 11.7812 - val_acc: 0.2611\n",
      "Epoch 49/50\n",
      "8185/8185 [==============================] - 211s 26ms/step - loss: 11.9566 - acc: 0.2531 - val_loss: 11.9152 - val_acc: 0.2562\n",
      "Epoch 50/50\n",
      "8185/8185 [==============================] - 210s 26ms/step - loss: 11.8782 - acc: 0.2568 - val_loss: 12.1029 - val_acc: 0.2433\n",
      "1015/1015 [==============================] - 4s 4ms/step\n",
      "[INFO] accuracy: 24.33%\n",
      "[INFO] Loss: 12.102912517310969\n"
     ]
    }
   ],
   "source": [
    "model = Sequential()  \n",
    "model.add(Flatten(input_shape=train_data.shape[1:]))  \n",
    "model.add(Dense(256, activation='relu'))  \n",
    "model.add(Dropout(0.5))  \n",
    "model.add(Dense(num_classes, activation='softmax'))  \n",
    "   \n",
    "model.compile(optimizer='rmsprop',  \n",
    "              loss='categorical_crossentropy', metrics=['accuracy'])  \n",
    "   \n",
    "history = model.fit(train_data, train_labels,  \n",
    "          epochs=epochs,  \n",
    "          batch_size=batch_size,  \n",
    "          validation_data=(validation_data, validation_labels))  \n",
    "   \n",
    "model.save_weights(weights_path)  \n",
    "   \n",
    "(eval_loss, eval_accuracy) = model.evaluate(  \n",
    "     validation_data, validation_labels, batch_size=batch_size, verbose=1)\n",
    "\n",
    "print(\"[INFO] accuracy: {:.2f}%\".format(eval_accuracy * 100))  \n",
    "print(\"[INFO] Loss: {}\".format(eval_loss)) "
   ]
  },
  {
   "cell_type": "code",
   "execution_count": 7,
   "metadata": {},
   "outputs": [
    {
     "data": {
      "image/png": "[encoded data removed]",
      "text/plain": [
       "<Figure size 432x288 with 2 Axes>"
      ]
     },
     "metadata": {
      "needs_background": "light"
     },
     "output_type": "display_data"
    }
   ],
   "source": [
    "# summarize history for accuracy  \n",
    "   \n",
    "plt.subplot(211)  \n",
    "plt.plot(history.history['acc'])  \n",
    "plt.plot(history.history['val_acc'])  \n",
    "plt.title('MobileNet model accuracy')  \n",
    "plt.ylabel('accuracy')  \n",
    "plt.xlabel('epoch')  \n",
    "plt.legend(['train', 'test'], loc='upper left')  \n",
    "  \n",
    "# summarize history for loss  \n",
    "   \n",
    "plt.subplot(212)  \n",
    "plt.plot(history.history['loss'])  \n",
    "plt.plot(history.history['val_loss'])  \n",
    "plt.title('model loss')  \n",
    "plt.ylabel('loss')  \n",
    "plt.xlabel('epoch')  \n",
    "plt.legend(['train', 'test'], loc='upper left')  \n",
    "plt.show() "
   ]
  }
 ],
 "metadata": {
  "kernelspec": {
   "display_name": "Python 3",
   "language": "python",
   "name": "python3"
  },
  "language_info": {
   "codemirror_mode": {
    "name": "ipython",
    "version": 3
   },
   "file_extension": ".py",
   "mimetype": "text/x-python",
   "name": "python",
   "nbconvert_exporter": "python",
   "pygments_lexer": "ipython3",
   "version": "3.6.5"
  }
 },
 "nbformat": 4,
 "nbformat_minor": 2
}
