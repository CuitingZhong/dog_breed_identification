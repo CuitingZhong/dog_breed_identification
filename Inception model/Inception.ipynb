{
 "cells": [
  {
   "cell_type": "code",
   "execution_count": 12,
   "metadata": {},
   "outputs": [],
   "source": [
    "import numpy as np\n",
    "import os\n",
    "import pandas as pd\n",
    "from sklearn.datasets import load_files       \n",
    "from keras.utils import np_utils\n",
    "from glob import glob\n",
    "from tqdm import tqdm\n",
    "from keras.preprocessing import image\n",
    "from PIL import Image\n",
    "from keras.applications import inception_v3\n",
    "from sklearn.linear_model import LogisticRegression\n",
    "import matplotlib.pyplot as plt\n",
    "%matplotlib inline               \n",
    "\n",
    "labels=pd.read_csv('labels.csv')\n",
    "target=labels.set_index('id')\n",
    "target=target.to_dict()['breed']"
   ]
  },
  {
   "cell_type": "code",
   "execution_count": 33,
   "metadata": {},
   "outputs": [],
   "source": [
    "from sklearn.datasets import load_files       \n",
    "from keras.utils import np_utils\n",
    "import numpy as np\n",
    "from glob import glob\n",
    "from sklearn.model_selection import train_test_split\n",
    "\n",
    "# define function to load train, test, and validation datasets\n",
    "def load_dataset(path):\n",
    "    #Load text files with categories as subfolder names.\n",
    "    data = load_files(path)\n",
    "    dog_files = np.array(data['filenames'])\n",
    "    dog_targets = np_utils.to_categorical(np.array(data['target']), 120)\n",
    "    return dog_files, dog_targets"
   ]
  },
  {
   "cell_type": "code",
   "execution_count": 18,
   "metadata": {},
   "outputs": [],
   "source": [
    "def path_to_tensor(img_path):\n",
    "    # loads RGB image as PIL.Image.Image type\n",
    "    img = image.load_img(img_path, target_size=(224, 224))\n",
    "    # convert PIL.Image.Image type to 3D tensor with shape (224, 224, 3)\n",
    "    x = image.img_to_array(img)\n",
    "    # convert 3D tensor to 4D tensor with shape (1, 224, 224, 3) and return 4D tensor\n",
    "    return np.expand_dims(x, axis=0)\n",
    "\n",
    "def paths_to_tensor(img_paths):\n",
    "    list_of_tensors = [path_to_tensor(img_path) for img_path in tqdm(img_paths)]\n",
    "    return np.vstack(list_of_tensors)"
   ]
  },
  {
   "cell_type": "code",
   "execution_count": 34,
   "metadata": {},
   "outputs": [],
   "source": [
    "# load train, test, and validation datasets\n",
    "train_files, train_targets = load_dataset('train_val_test/train')\n",
    "val_files, val_targets = load_dataset('train_val_test/val')\n",
    "test_files, test_targets = load_dataset('train_val_test/test')\n",
    "\n",
    "# load list of dog breed names\n",
    "breeds = [item[21:-1] for item in sorted(glob(\"train_val_test/train/*/\"))]"
   ]
  },
  {
   "cell_type": "code",
   "execution_count": 35,
   "metadata": {},
   "outputs": [],
   "source": [
    "from PIL import ImageFile                            \n",
    "ImageFile.LOAD_TRUNCATED_IMAGES = True                 \n",
    "\n",
    "# pre-process the data for Keras - Converts to (224, 224) and converts into a numpy array using PIL.\n",
    "train_tensors = paths_to_tensor(train_files).astype('float32')/255\n",
    "val_tensors = paths_to_tensor(val_files).astype('float32')/255\n",
    "test_tensors = paths_to_tensor(test_files).astype('float32')/255"
   ]
  },
  {
   "cell_type": "code",
   "execution_count": 37,
   "metadata": {},
   "outputs": [
    {
     "name": "stdout",
     "output_type": "stream",
     "text": [
      "8185/8185 [==============================] - 1503s 184ms/step\n",
      "1015/1015 [==============================] - 179s 177ms/step\n",
      "1022/1022 [==============================] - 161s 157ms/step\n",
      "InceptionV3 train bottleneck features shape: (8185, 2048) size: 16,762,880\n",
      "InceptionV3 valid bottleneck features shape: (1015, 2048) size: 2,078,720\n",
      "InceptionV3 test bottleneck features shape: (1022, 2048) size: 2,093,056\n"
     ]
    }
   ],
   "source": [
    "input_size=224\n",
    "num_classes=120\n",
    "S=1\n",
    "train_len=len(train_files)\n",
    "\n",
    "inception_bottleneck=inception_v3.InceptionV3(weights='imagenet', include_top=False, pooling='avg')\n",
    "train_i_bf = inception_bottleneck.predict(train_tensors, batch_size=32, verbose=1)\n",
    "val_i_bf = inception_bottleneck.predict(val_tensors, batch_size=32, verbose=1)\n",
    "test_i_bf = inception_bottleneck.predict(test_tensors, batch_size=32, verbose=1)\n",
    "print('InceptionV3 train bottleneck features shape: {} size: {:,}'.format(train_i_bf.shape, train_i_bf.size))\n",
    "print('InceptionV3 valid bottleneck features shape: {} size: {:,}'.format(val_i_bf.shape, val_i_bf.size))\n",
    "print('InceptionV3 test bottleneck features shape: {} size: {:,}'.format(test_i_bf.shape, test_i_bf.size))"
   ]
  },
  {
   "cell_type": "code",
   "execution_count": 38,
   "metadata": {},
   "outputs": [],
   "source": [
    "np.save('bottleneck_features_train_inception.npy', train_i_bf) \n",
    "np.save('bottleneck_features_val_inception.npy', val_i_bf) \n",
    "np.save('bottleneck_features_test_inception.npy', test_i_bf) "
   ]
  },
  {
   "cell_type": "code",
   "execution_count": 43,
   "metadata": {},
   "outputs": [
    {
     "name": "stdout",
     "output_type": "stream",
     "text": [
      "Train on 8185 samples, validate on 1015 samples\n",
      "Epoch 1/50\n",
      "8185/8185 [==============================] - 5s 623us/step - loss: 2.2907 - acc: 0.4762 - val_loss: 0.9231 - val_acc: 0.7409\n",
      "Epoch 2/50\n",
      "8185/8185 [==============================] - 3s 394us/step - loss: 1.1625 - acc: 0.6946 - val_loss: 0.8809 - val_acc: 0.7606\n",
      "Epoch 3/50\n",
      "8185/8185 [==============================] - 3s 398us/step - loss: 0.9988 - acc: 0.7300 - val_loss: 0.8997 - val_acc: 0.7557\n",
      "Epoch 4/50\n",
      "8185/8185 [==============================] - 3s 364us/step - loss: 0.8889 - acc: 0.7572 - val_loss: 0.8742 - val_acc: 0.7665\n",
      "Epoch 5/50\n",
      "8185/8185 [==============================] - 3s 354us/step - loss: 0.8416 - acc: 0.7709 - val_loss: 0.8432 - val_acc: 0.7744\n",
      "Epoch 6/50\n",
      "8185/8185 [==============================] - 3s 363us/step - loss: 0.7556 - acc: 0.7902 - val_loss: 0.9019 - val_acc: 0.7626\n",
      "Epoch 7/50\n",
      "8185/8185 [==============================] - 3s 390us/step - loss: 0.7416 - acc: 0.7978 - val_loss: 0.9621 - val_acc: 0.7773\n",
      "Epoch 8/50\n",
      "8185/8185 [==============================] - 3s 414us/step - loss: 0.6907 - acc: 0.8042 - val_loss: 0.9798 - val_acc: 0.7813\n",
      "Epoch 9/50\n",
      "8185/8185 [==============================] - 3s 420us/step - loss: 0.6588 - acc: 0.8173 - val_loss: 0.9844 - val_acc: 0.7635\n",
      "Epoch 10/50\n",
      "8185/8185 [==============================] - 3s 418us/step - loss: 0.6184 - acc: 0.8249 - val_loss: 1.0755 - val_acc: 0.7764\n",
      "Epoch 11/50\n",
      "8185/8185 [==============================] - 3s 416us/step - loss: 0.5981 - acc: 0.8336 - val_loss: 1.1381 - val_acc: 0.7773\n",
      "Epoch 12/50\n",
      "8185/8185 [==============================] - 3s 417us/step - loss: 0.5738 - acc: 0.8386 - val_loss: 1.1082 - val_acc: 0.7783\n",
      "Epoch 13/50\n",
      "8185/8185 [==============================] - 3s 399us/step - loss: 0.5464 - acc: 0.8447 - val_loss: 1.1515 - val_acc: 0.7675\n",
      "Epoch 14/50\n",
      "8185/8185 [==============================] - 3s 381us/step - loss: 0.5097 - acc: 0.8524 - val_loss: 1.1755 - val_acc: 0.7704\n",
      "Epoch 15/50\n",
      "8185/8185 [==============================] - 3s 367us/step - loss: 0.5067 - acc: 0.8619 - val_loss: 1.3015 - val_acc: 0.7626\n",
      "Epoch 16/50\n",
      "8185/8185 [==============================] - 3s 399us/step - loss: 0.4887 - acc: 0.8611 - val_loss: 1.4038 - val_acc: 0.7685\n",
      "Epoch 17/50\n",
      "8185/8185 [==============================] - 3s 336us/step - loss: 0.4978 - acc: 0.8623 - val_loss: 1.3215 - val_acc: 0.7783\n",
      "Epoch 18/50\n",
      "8185/8185 [==============================] - 2s 240us/step - loss: 0.4488 - acc: 0.8734 - val_loss: 1.4141 - val_acc: 0.7754\n",
      "Epoch 19/50\n",
      "8185/8185 [==============================] - 3s 307us/step - loss: 0.4369 - acc: 0.8756 - val_loss: 1.3859 - val_acc: 0.7635\n",
      "Epoch 20/50\n",
      "8185/8185 [==============================] - 3s 379us/step - loss: 0.4369 - acc: 0.8757 - val_loss: 1.4013 - val_acc: 0.7833\n",
      "Epoch 21/50\n",
      "8185/8185 [==============================] - 3s 367us/step - loss: 0.4168 - acc: 0.8825 - val_loss: 1.5122 - val_acc: 0.7773\n",
      "Epoch 22/50\n",
      "8185/8185 [==============================] - 3s 385us/step - loss: 0.3946 - acc: 0.8909 - val_loss: 1.4128 - val_acc: 0.7823\n",
      "Epoch 23/50\n",
      "8185/8185 [==============================] - 3s 348us/step - loss: 0.4021 - acc: 0.8874 - val_loss: 1.5621 - val_acc: 0.7665\n",
      "Epoch 24/50\n",
      "8185/8185 [==============================] - 3s 346us/step - loss: 0.4061 - acc: 0.8919 - val_loss: 1.4799 - val_acc: 0.7734\n",
      "Epoch 25/50\n",
      "8185/8185 [==============================] - 3s 343us/step - loss: 0.3659 - acc: 0.8921 - val_loss: 1.6275 - val_acc: 0.7635\n",
      "Epoch 26/50\n",
      "8185/8185 [==============================] - 3s 343us/step - loss: 0.3694 - acc: 0.8979 - val_loss: 1.4564 - val_acc: 0.7901\n",
      "Epoch 27/50\n",
      "8185/8185 [==============================] - 3s 397us/step - loss: 0.3786 - acc: 0.9024 - val_loss: 1.5423 - val_acc: 0.7783\n",
      "Epoch 28/50\n",
      "8185/8185 [==============================] - 3s 413us/step - loss: 0.3330 - acc: 0.9057 - val_loss: 1.6991 - val_acc: 0.7665\n",
      "Epoch 29/50\n",
      "8185/8185 [==============================] - 3s 395us/step - loss: 0.3514 - acc: 0.9035 - val_loss: 1.7866 - val_acc: 0.7685\n",
      "Epoch 30/50\n",
      "8185/8185 [==============================] - 3s 335us/step - loss: 0.3394 - acc: 0.9049 - val_loss: 1.6886 - val_acc: 0.7714\n",
      "Epoch 31/50\n",
      "8185/8185 [==============================] - 3s 345us/step - loss: 0.3383 - acc: 0.9135 - val_loss: 1.5475 - val_acc: 0.7714\n",
      "Epoch 32/50\n",
      "8185/8185 [==============================] - 3s 396us/step - loss: 0.3261 - acc: 0.9112 - val_loss: 1.5712 - val_acc: 0.7764\n",
      "Epoch 33/50\n",
      "8185/8185 [==============================] - 3s 378us/step - loss: 0.3222 - acc: 0.9137 - val_loss: 1.7591 - val_acc: 0.7754\n",
      "Epoch 34/50\n",
      "8185/8185 [==============================] - 3s 381us/step - loss: 0.3216 - acc: 0.9169 - val_loss: 1.6192 - val_acc: 0.7833\n",
      "Epoch 35/50\n",
      "8185/8185 [==============================] - 3s 386us/step - loss: 0.3348 - acc: 0.9135 - val_loss: 1.8070 - val_acc: 0.7685\n",
      "Epoch 36/50\n",
      "8185/8185 [==============================] - 3s 340us/step - loss: 0.3014 - acc: 0.9202 - val_loss: 1.8887 - val_acc: 0.7655\n",
      "Epoch 37/50\n",
      "8185/8185 [==============================] - 3s 358us/step - loss: 0.3317 - acc: 0.9120 - val_loss: 1.8034 - val_acc: 0.7764\n",
      "Epoch 38/50\n",
      "8185/8185 [==============================] - 3s 346us/step - loss: 0.3011 - acc: 0.9236 - val_loss: 1.8470 - val_acc: 0.7764\n",
      "Epoch 39/50\n",
      "8185/8185 [==============================] - 3s 366us/step - loss: 0.2990 - acc: 0.9240 - val_loss: 1.8370 - val_acc: 0.7833\n",
      "Epoch 40/50\n",
      "8185/8185 [==============================] - 3s 370us/step - loss: 0.2969 - acc: 0.9245 - val_loss: 1.8777 - val_acc: 0.7823\n",
      "Epoch 41/50\n",
      "8185/8185 [==============================] - 3s 376us/step - loss: 0.3071 - acc: 0.9255 - val_loss: 1.9277 - val_acc: 0.7783\n",
      "Epoch 42/50\n",
      "8185/8185 [==============================] - 3s 375us/step - loss: 0.2995 - acc: 0.9261 - val_loss: 1.8415 - val_acc: 0.7764\n",
      "Epoch 43/50\n",
      "8185/8185 [==============================] - 3s 357us/step - loss: 0.2977 - acc: 0.9219 - val_loss: 1.8273 - val_acc: 0.7714\n",
      "Epoch 44/50\n",
      "8185/8185 [==============================] - 3s 355us/step - loss: 0.2932 - acc: 0.9304 - val_loss: 1.8874 - val_acc: 0.7823\n",
      "Epoch 45/50\n",
      "8185/8185 [==============================] - 3s 353us/step - loss: 0.2836 - acc: 0.9304 - val_loss: 1.9711 - val_acc: 0.7842\n",
      "Epoch 46/50\n",
      "8185/8185 [==============================] - 3s 331us/step - loss: 0.2907 - acc: 0.9316 - val_loss: 1.9243 - val_acc: 0.7714\n",
      "Epoch 47/50\n",
      "8185/8185 [==============================] - 3s 365us/step - loss: 0.2937 - acc: 0.9262 - val_loss: 2.0718 - val_acc: 0.7744\n",
      "Epoch 48/50\n",
      "8185/8185 [==============================] - 3s 355us/step - loss: 0.2854 - acc: 0.9334 - val_loss: 2.0571 - val_acc: 0.7714\n",
      "Epoch 49/50\n",
      "8185/8185 [==============================] - 3s 350us/step - loss: 0.3020 - acc: 0.9326 - val_loss: 1.9265 - val_acc: 0.7773\n",
      "Epoch 50/50\n",
      "8185/8185 [==============================] - 3s 426us/step - loss: 0.2757 - acc: 0.9321 - val_loss: 1.9904 - val_acc: 0.7724\n",
      "1015/1015 [==============================] - 0s 96us/step\n",
      "[INFO] accuracy: 77.24%\n",
      "[INFO] Loss: 1.9903909182900865\n"
     ]
    }
   ],
   "source": [
    "import numpy as np  \n",
    "from keras.preprocessing.image import ImageDataGenerator, img_to_array, load_img  \n",
    "from keras.models import Sequential  \n",
    "from keras.layers import Dropout, Flatten, Dense  \n",
    "from keras import applications  \n",
    "from keras.utils.np_utils import to_categorical  \n",
    "import matplotlib.pyplot as plt  \n",
    "import math\n",
    "\n",
    "# load the bottleneck features saved earlier  \n",
    "train_data = np.load('bottleneck_features_train_inception.npy') \n",
    "val_data = np.load('bottleneck_features_val_inception.npy') \n",
    "test_data = np.load('bottleneck_features_test_inception.npy') \n",
    "batch_size=32\n",
    "epochs=50\n",
    "\n",
    "model = Sequential()  \n",
    "#model.add(Flatten(input_shape=train_data.shape[1:]))  \n",
    "model.add(Dense(256, activation='relu'))  \n",
    "model.add(Dropout(0.5))  \n",
    "model.add(Dense(num_classes, activation='softmax'))  \n",
    "   \n",
    "model.compile(optimizer='rmsprop',  \n",
    "              loss='categorical_crossentropy', metrics=['accuracy'])  \n",
    "   \n",
    "history = model.fit(train_data, train_targets,  \n",
    "          epochs=epochs,  \n",
    "          batch_size=batch_size,  \n",
    "          validation_data=(val_data, val_targets))  \n",
    "   \n",
    "model.save_weights('inception_model_2.h5')  \n",
    "   \n",
    "(eval_loss, eval_accuracy) = model.evaluate(  \n",
    "     val_data, val_targets, batch_size=batch_size, verbose=1)\n",
    "\n",
    "print(\"[INFO] accuracy: {:.2f}%\".format(eval_accuracy * 100))  \n",
    "print(\"[INFO] Loss: {}\".format(eval_loss)) "
   ]
  },
  {
   "cell_type": "code",
   "execution_count": 44,
   "metadata": {},
   "outputs": [
    {
     "data": {
      "image/png": "[encoded data removed]",
      "text/plain": [
       "<Figure size 432x288 with 2 Axes>"
      ]
     },
     "metadata": {},
     "output_type": "display_data"
    }
   ],
   "source": [
    "# summarize history for accuracy  \n",
    "   \n",
    "plt.subplot(211)  \n",
    "plt.plot(history.history['acc'])  \n",
    "plt.plot(history.history['val_acc'])  \n",
    "plt.title('model accuracy')  \n",
    "plt.ylabel('accuracy')  \n",
    "plt.xlabel('epoch')  \n",
    "plt.legend(['train', 'test'], loc='upper left')  \n",
    "  \n",
    "# summarize history for loss  \n",
    "   \n",
    "plt.subplot(212)  \n",
    "plt.plot(history.history['loss'])  \n",
    "plt.plot(history.history['val_loss'])  \n",
    "plt.title('model loss')  \n",
    "plt.ylabel('loss')  \n",
    "plt.xlabel('epoch')  \n",
    "plt.legend(['train', 'test'], loc='upper left')  \n",
    "plt.show() "
   ]
  },
  {
   "cell_type": "code",
   "execution_count": 45,
   "metadata": {},
   "outputs": [],
   "source": [
    "def report_accuracy(test_tensors, test_targets):\n",
    "    # get index of predicted dog breed for each image in test set\n",
    "    dog_breed_predictions = [np.argmax(model.predict(np.expand_dims(tensor, axis=0))) for tensor in test_tensors]\n",
    "\n",
    "    # Find out the Number of Samples\n",
    "    num_test_samples = len(dog_breed_predictions)\n",
    "\n",
    "    print(\"The Number of Test images are: {}\".format(num_test_samples))\n",
    "\n",
    "    # report test accuracy\n",
    "    test_accuracy = 100*np.sum(np.array(dog_breed_predictions)==np.argmax(test_targets, axis=1))/len(dog_breed_predictions)\n",
    "    print('Test accuracy: %.4f%%' % test_accuracy)"
   ]
  },
  {
   "cell_type": "code",
   "execution_count": 48,
   "metadata": {},
   "outputs": [
    {
     "name": "stdout",
     "output_type": "stream",
     "text": [
      "For training set:\n",
      "The Number of Test images are: 8185\n",
      "Test accuracy: 99.1936%\n",
      "For validation set:\n",
      "The Number of Test images are: 1015\n",
      "Test accuracy: 77.2414%\n",
      "For test set:\n",
      "The Number of Test images are: 1022\n",
      "Test accuracy: 77.3973%\n"
     ]
    }
   ],
   "source": [
    "model.load_weights('inception_model_2.h5')\n",
    "\n",
    "print('For training set:')\n",
    "report_accuracy(train_data, train_targets)\n",
    "\n",
    "print('For validation set:')\n",
    "report_accuracy(val_data, val_targets)\n",
    "\n",
    "print('For test set:')\n",
    "report_accuracy(test_data, test_targets)"
   ]
  }
 ],
 "metadata": {
  "kernelspec": {
   "display_name": "Python 3",
   "language": "python",
   "name": "python3"
  },
  "language_info": {
   "codemirror_mode": {
    "name": "ipython",
    "version": 3
   },
   "file_extension": ".py",
   "mimetype": "text/x-python",
   "name": "python",
   "nbconvert_exporter": "python",
   "pygments_lexer": "ipython3",
   "version": "3.6.5"
  }
 },
 "nbformat": 4,
 "nbformat_minor": 2
}
