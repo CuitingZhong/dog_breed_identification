{
 "cells": [
  {
   "cell_type": "markdown",
   "metadata": {},
   "source": [
    "# VGG16 with transfer learning"
   ]
  },
  {
   "cell_type": "markdown",
   "metadata": {},
   "source": [
    "## data preprocessing"
   ]
  },
  {
   "cell_type": "code",
   "execution_count": 3,
   "metadata": {},
   "outputs": [],
   "source": [
    "import numpy as np  \n",
    "from keras.preprocessing.image import ImageDataGenerator, img_to_array, load_img  \n",
    "from keras.models import Sequential  \n",
    "from keras.layers import Dropout, Flatten, Dense  \n",
    "from keras import applications  \n",
    "from keras.utils.np_utils import to_categorical  \n",
    "import matplotlib.pyplot as plt  \n",
    "import math  \n",
    "#import cv2  \n",
    "\n",
    "# dimensions of our images  \n",
    "img_width, img_height = 224, 224  \n",
    "\n",
    "train_data_dir = 'train_val_test/train'  \n",
    "validation_data_dir = 'train_val_test/val'  \n",
    "test_data_dir = 'train_val_test/test'  \n",
    "   \n",
    " # number of epochs to train top model  \n",
    "epochs = 50  \n",
    " # batch size used by flow_from_directory and predict_generator  \n",
    "batch_size = 16  "
   ]
  },
  {
   "cell_type": "code",
   "execution_count": 2,
   "metadata": {},
   "outputs": [
    {
     "name": "stdout",
     "output_type": "stream",
     "text": [
      "Found 8185 images belonging to 120 classes.\n"
     ]
    }
   ],
   "source": [
    "model = applications.VGG16(include_top=False, weights='imagenet')\n",
    "datagen = ImageDataGenerator(rescale=1. / 255)  \n",
    "   \n",
    "generator = datagen.flow_from_directory(  \n",
    "     train_data_dir,  \n",
    "     target_size=(img_width, img_height),  \n",
    "     batch_size=batch_size,  \n",
    "     class_mode=None,  \n",
    "     shuffle=False)  \n",
    "   \n",
    "nb_train_samples = len(generator.filenames)  \n",
    "num_classes = len(generator.class_indices)  \n",
    "   \n",
    "predict_size_train = int(math.ceil(nb_train_samples / batch_size))  \n",
    "   \n",
    "bottleneck_features_train = model.predict_generator(  \n",
    "     generator, predict_size_train)  \n",
    "   \n",
    "np.save('bottleneck_features_train.npy', bottleneck_features_train)  "
   ]
  },
  {
   "cell_type": "code",
   "execution_count": 3,
   "metadata": {},
   "outputs": [
    {
     "name": "stdout",
     "output_type": "stream",
     "text": [
      "Found 1015 images belonging to 120 classes.\n"
     ]
    }
   ],
   "source": [
    "generator = datagen.flow_from_directory(  \n",
    "     validation_data_dir,  \n",
    "     target_size=(img_width, img_height),  \n",
    "     batch_size=batch_size,  \n",
    "     class_mode=None,  \n",
    "     shuffle=False)  \n",
    "   \n",
    "nb_validation_samples = len(generator.filenames)  \n",
    "   \n",
    "predict_size_validation = int(math.ceil(nb_validation_samples / batch_size))  \n",
    "   \n",
    "bottleneck_features_validation = model.predict_generator(  \n",
    "     generator, predict_size_validation)  \n",
    "   \n",
    "np.save('bottleneck_features_validation.npy', bottleneck_features_validation) "
   ]
  },
  {
   "cell_type": "code",
   "execution_count": 4,
   "metadata": {},
   "outputs": [
    {
     "name": "stdout",
     "output_type": "stream",
     "text": [
      "Found 8185 images belonging to 120 classes.\n"
     ]
    }
   ],
   "source": [
    "datagen_top = ImageDataGenerator(rescale=1./255)  \n",
    "generator_top = datagen_top.flow_from_directory(  \n",
    "         train_data_dir,  \n",
    "         target_size=(img_width, img_height),  \n",
    "         batch_size=batch_size,  \n",
    "         class_mode='categorical',  \n",
    "         shuffle=False)  \n",
    "   \n",
    "nb_train_samples = len(generator_top.filenames)  \n",
    "num_classes = len(generator_top.class_indices)  \n",
    "   \n",
    " # load the bottleneck features saved earlier  \n",
    "train_data = np.load('bottleneck_features_train.npy')  \n",
    "   \n",
    " # get the class lebels for the training data, in the original order  \n",
    "train_labels = generator_top.classes  \n",
    "   \n",
    "# convert the training labels to categorical vectors  \n",
    "train_labels = to_categorical(train_labels, num_classes=num_classes)  "
   ]
  },
  {
   "cell_type": "code",
   "execution_count": 5,
   "metadata": {},
   "outputs": [
    {
     "name": "stdout",
     "output_type": "stream",
     "text": [
      "Found 1015 images belonging to 120 classes.\n"
     ]
    }
   ],
   "source": [
    "generator_top = datagen_top.flow_from_directory(  \n",
    "         validation_data_dir,  \n",
    "         target_size=(img_width, img_height),  \n",
    "         batch_size=batch_size,  \n",
    "         class_mode=None,  \n",
    "         shuffle=False)  \n",
    "   \n",
    "nb_validation_samples = len(generator_top.filenames)  \n",
    "   \n",
    "validation_data = np.load('bottleneck_features_validation.npy')  \n",
    "   \n",
    "validation_labels = generator_top.classes  \n",
    "validation_labels = to_categorical(validation_labels, num_classes=num_classes) "
   ]
  },
  {
   "cell_type": "markdown",
   "metadata": {},
   "source": [
    "## model with sigmoid activation in the top layer"
   ]
  },
  {
   "cell_type": "code",
   "execution_count": 6,
   "metadata": {},
   "outputs": [
    {
     "name": "stdout",
     "output_type": "stream",
     "text": [
      "Train on 8185 samples, validate on 1015 samples\n",
      "Epoch 1/50\n",
      "8185/8185 [==============================] - 55s 7ms/step - loss: 4.9634 - acc: 0.0087 - val_loss: 4.7850 - val_acc: 0.0108\n",
      "Epoch 2/50\n",
      "8185/8185 [==============================] - 54s 7ms/step - loss: 4.8008 - acc: 0.0112 - val_loss: 4.7829 - val_acc: 0.0118\n",
      "Epoch 3/50\n",
      "8185/8185 [==============================] - 54s 7ms/step - loss: 4.7974 - acc: 0.0126 - val_loss: 4.8347 - val_acc: 0.0128\n",
      "Epoch 4/50\n",
      "8185/8185 [==============================] - 54s 7ms/step - loss: 4.7957 - acc: 0.0147 - val_loss: 4.7798 - val_acc: 0.0118\n",
      "Epoch 5/50\n",
      "8185/8185 [==============================] - 56s 7ms/step - loss: 4.7920 - acc: 0.0156 - val_loss: 4.7772 - val_acc: 0.0128\n",
      "Epoch 6/50\n",
      "8185/8185 [==============================] - 56s 7ms/step - loss: 4.7884 - acc: 0.0138 - val_loss: 4.7637 - val_acc: 0.0118\n",
      "Epoch 7/50\n",
      "8185/8185 [==============================] - 56s 7ms/step - loss: 4.7860 - acc: 0.0147 - val_loss: 4.7715 - val_acc: 0.0128\n",
      "Epoch 8/50\n",
      "8185/8185 [==============================] - 56s 7ms/step - loss: 4.7771 - acc: 0.0171 - val_loss: 4.7268 - val_acc: 0.0286\n",
      "Epoch 9/50\n",
      "8185/8185 [==============================] - 56s 7ms/step - loss: 4.7785 - acc: 0.0184 - val_loss: 4.7800 - val_acc: 0.0217\n",
      "Epoch 10/50\n",
      "8185/8185 [==============================] - 56s 7ms/step - loss: 4.7633 - acc: 0.0202 - val_loss: 4.7563 - val_acc: 0.0197\n",
      "Epoch 11/50\n",
      "8185/8185 [==============================] - 54s 7ms/step - loss: 4.7455 - acc: 0.0194 - val_loss: 4.7211 - val_acc: 0.0197\n",
      "Epoch 12/50\n",
      "8185/8185 [==============================] - 55s 7ms/step - loss: 4.7439 - acc: 0.0244 - val_loss: 4.6418 - val_acc: 0.0296\n",
      "Epoch 13/50\n",
      "8185/8185 [==============================] - 54s 7ms/step - loss: 4.7415 - acc: 0.0241 - val_loss: 4.6740 - val_acc: 0.0276\n",
      "Epoch 14/50\n",
      "8185/8185 [==============================] - 55s 7ms/step - loss: 4.7193 - acc: 0.0259 - val_loss: 4.9365 - val_acc: 0.0236\n",
      "Epoch 15/50\n",
      "8185/8185 [==============================] - 55s 7ms/step - loss: 4.7263 - acc: 0.0263 - val_loss: 4.6431 - val_acc: 0.0286\n",
      "Epoch 16/50\n",
      "8185/8185 [==============================] - 56s 7ms/step - loss: 4.6932 - acc: 0.0285 - val_loss: 4.6091 - val_acc: 0.0315\n",
      "Epoch 17/50\n",
      "8185/8185 [==============================] - 56s 7ms/step - loss: 4.6964 - acc: 0.0307 - val_loss: 4.9889 - val_acc: 0.0246\n",
      "Epoch 18/50\n",
      "8185/8185 [==============================] - 57s 7ms/step - loss: 4.6719 - acc: 0.0348 - val_loss: 4.6644 - val_acc: 0.0335\n",
      "Epoch 19/50\n",
      "8185/8185 [==============================] - 56s 7ms/step - loss: 4.6763 - acc: 0.0329 - val_loss: 4.6754 - val_acc: 0.0266\n",
      "Epoch 20/50\n",
      "8185/8185 [==============================] - 56s 7ms/step - loss: 4.6633 - acc: 0.0369 - val_loss: 4.6767 - val_acc: 0.0325\n",
      "Epoch 21/50\n",
      "8185/8185 [==============================] - 55s 7ms/step - loss: 4.6604 - acc: 0.0378 - val_loss: 4.6613 - val_acc: 0.0296\n",
      "Epoch 22/50\n",
      "8185/8185 [==============================] - 54s 7ms/step - loss: 4.6531 - acc: 0.0395 - val_loss: 4.6540 - val_acc: 0.0296\n",
      "Epoch 23/50\n",
      "8185/8185 [==============================] - 54s 7ms/step - loss: 4.6525 - acc: 0.0389 - val_loss: 4.6686 - val_acc: 0.0374\n",
      "Epoch 24/50\n",
      "8185/8185 [==============================] - 55s 7ms/step - loss: 4.6575 - acc: 0.0391 - val_loss: 4.6944 - val_acc: 0.0217\n",
      "Epoch 25/50\n",
      "8185/8185 [==============================] - 55s 7ms/step - loss: 4.6511 - acc: 0.0370 - val_loss: 5.2859 - val_acc: 0.0374\n",
      "Epoch 26/50\n",
      "8185/8185 [==============================] - 55s 7ms/step - loss: 4.6647 - acc: 0.0380 - val_loss: 4.6737 - val_acc: 0.0335\n",
      "Epoch 27/50\n",
      "8185/8185 [==============================] - 57s 7ms/step - loss: 4.6593 - acc: 0.0451 - val_loss: 4.6961 - val_acc: 0.0305\n",
      "Epoch 28/50\n",
      "8185/8185 [==============================] - 57s 7ms/step - loss: 4.6448 - acc: 0.0419 - val_loss: 4.6684 - val_acc: 0.0355\n",
      "Epoch 29/50\n",
      "8185/8185 [==============================] - 56s 7ms/step - loss: 4.6276 - acc: 0.0439 - val_loss: 4.6822 - val_acc: 0.0305\n",
      "Epoch 30/50\n",
      "8185/8185 [==============================] - 57s 7ms/step - loss: 4.6404 - acc: 0.0425 - val_loss: 4.6843 - val_acc: 0.0345\n",
      "Epoch 31/50\n",
      "8185/8185 [==============================] - 57s 7ms/step - loss: 4.6283 - acc: 0.0447 - val_loss: 4.7555 - val_acc: 0.0404\n",
      "Epoch 32/50\n",
      "8185/8185 [==============================] - 56s 7ms/step - loss: 4.6512 - acc: 0.0464 - val_loss: 4.6580 - val_acc: 0.0433\n",
      "Epoch 33/50\n",
      "8185/8185 [==============================] - 55s 7ms/step - loss: 4.6405 - acc: 0.0458 - val_loss: 4.6614 - val_acc: 0.0345\n",
      "Epoch 34/50\n",
      "8185/8185 [==============================] - 55s 7ms/step - loss: nan - acc: 0.0112 - val_loss: nan - val_acc: 0.0079\n",
      "Epoch 35/50\n",
      "8185/8185 [==============================] - 55s 7ms/step - loss: nan - acc: 0.0078 - val_loss: nan - val_acc: 0.0079\n",
      "Epoch 36/50\n",
      "8185/8185 [==============================] - 55s 7ms/step - loss: nan - acc: 0.0078 - val_loss: nan - val_acc: 0.0079\n",
      "Epoch 37/50\n",
      "8185/8185 [==============================] - 57s 7ms/step - loss: nan - acc: 0.0078 - val_loss: nan - val_acc: 0.0079\n",
      "Epoch 38/50\n",
      "8185/8185 [==============================] - 57s 7ms/step - loss: nan - acc: 0.0078 - val_loss: nan - val_acc: 0.0079\n",
      "Epoch 39/50\n",
      "8185/8185 [==============================] - 57s 7ms/step - loss: nan - acc: 0.0078 - val_loss: nan - val_acc: 0.0079\n",
      "Epoch 40/50\n",
      "8185/8185 [==============================] - 58s 7ms/step - loss: nan - acc: 0.0078 - val_loss: nan - val_acc: 0.0079\n",
      "Epoch 41/50\n",
      "8185/8185 [==============================] - 57s 7ms/step - loss: nan - acc: 0.0078 - val_loss: nan - val_acc: 0.0079\n",
      "Epoch 42/50\n",
      "8185/8185 [==============================] - 57s 7ms/step - loss: nan - acc: 0.0078 - val_loss: nan - val_acc: 0.0079\n",
      "Epoch 43/50\n",
      "8185/8185 [==============================] - 56s 7ms/step - loss: nan - acc: 0.0078 - val_loss: nan - val_acc: 0.0079\n",
      "Epoch 44/50\n",
      "8185/8185 [==============================] - 56s 7ms/step - loss: nan - acc: 0.0078 - val_loss: nan - val_acc: 0.0079\n",
      "Epoch 45/50\n",
      "8185/8185 [==============================] - 56s 7ms/step - loss: nan - acc: 0.0078 - val_loss: nan - val_acc: 0.0079\n",
      "Epoch 46/50\n",
      "8185/8185 [==============================] - 56s 7ms/step - loss: nan - acc: 0.0078 - val_loss: nan - val_acc: 0.0079\n",
      "Epoch 47/50\n",
      "8185/8185 [==============================] - 56s 7ms/step - loss: nan - acc: 0.0078 - val_loss: nan - val_acc: 0.0079\n",
      "Epoch 48/50\n",
      "8185/8185 [==============================] - 58s 7ms/step - loss: nan - acc: 0.0078 - val_loss: nan - val_acc: 0.0079\n",
      "Epoch 49/50\n",
      "8185/8185 [==============================] - 57s 7ms/step - loss: nan - acc: 0.0078 - val_loss: nan - val_acc: 0.0079\n",
      "Epoch 50/50\n",
      "8185/8185 [==============================] - 58s 7ms/step - loss: nan - acc: 0.0078 - val_loss: nan - val_acc: 0.0079\n",
      "1015/1015 [==============================] - 1s 578us/step\n",
      "[INFO] accuracy: 0.79%\n",
      "[INFO] Loss: nan\n"
     ]
    }
   ],
   "source": [
    "model = Sequential()  \n",
    "model.add(Flatten(input_shape=train_data.shape[1:]))  \n",
    "model.add(Dense(256, activation='relu'))  \n",
    "model.add(Dropout(0.5))  \n",
    "model.add(Dense(num_classes, activation='sigmoid'))  \n",
    "   \n",
    "model.compile(optimizer='rmsprop',  \n",
    "              loss='categorical_crossentropy', metrics=['accuracy'])  \n",
    "   \n",
    "history = model.fit(train_data, train_labels,  \n",
    "          epochs=epochs,  \n",
    "          batch_size=batch_size,  \n",
    "          validation_data=(validation_data, validation_labels))  \n",
    "   \n",
    "model.save_weights('vgg16_sigmoid_model.h5')  \n",
    "   \n",
    "(eval_loss, eval_accuracy) = model.evaluate(  \n",
    "     validation_data, validation_labels, batch_size=batch_size, verbose=1)\n",
    "\n",
    "print(\"[INFO] accuracy: {:.2f}%\".format(eval_accuracy * 100))  \n",
    "print(\"[INFO] Loss: {}\".format(eval_loss)) "
   ]
  },
  {
   "cell_type": "code",
   "execution_count": 7,
   "metadata": {},
   "outputs": [
    {
     "data": {
      "image/png": "[encoded data removed]",
      "text/plain": [
       "<Figure size 432x288 with 2 Axes>"
      ]
     },
     "metadata": {
      "needs_background": "light"
     },
     "output_type": "display_data"
    }
   ],
   "source": [
    "# summarize history for accuracy  \n",
    "   \n",
    "plt.subplot(211)  \n",
    "plt.plot(history.history['acc'])  \n",
    "plt.plot(history.history['val_acc'])  \n",
    "plt.title('model accuracy')  \n",
    "plt.ylabel('accuracy')  \n",
    "plt.xlabel('epoch')  \n",
    "plt.legend(['train', 'test'], loc='upper left')  \n",
    "  \n",
    "# summarize history for loss  \n",
    "   \n",
    "plt.subplot(212)  \n",
    "plt.plot(history.history['loss'])  \n",
    "plt.plot(history.history['val_loss'])  \n",
    "plt.title('model loss')  \n",
    "plt.ylabel('loss')  \n",
    "plt.xlabel('epoch')  \n",
    "plt.legend(['train', 'test'], loc='upper left')  \n",
    "plt.show() "
   ]
  },
  {
   "cell_type": "markdown",
   "metadata": {},
   "source": [
    "## model with softmax activation in the top layer"
   ]
  },
  {
   "cell_type": "code",
   "execution_count": 6,
   "metadata": {},
   "outputs": [
    {
     "name": "stdout",
     "output_type": "stream",
     "text": [
      "Train on 8185 samples, validate on 1015 samples\n",
      "Epoch 1/50\n",
      "8185/8185 [==============================] - 34s 4ms/step - loss: 5.2824 - acc: 0.0081 - val_loss: 4.7835 - val_acc: 0.0118\n",
      "Epoch 2/50\n",
      "8185/8185 [==============================] - 33s 4ms/step - loss: 4.8015 - acc: 0.0121 - val_loss: 4.7807 - val_acc: 0.0118\n",
      "Epoch 3/50\n",
      "8185/8185 [==============================] - 33s 4ms/step - loss: 4.7939 - acc: 0.0130 - val_loss: 4.7791 - val_acc: 0.0118\n",
      "Epoch 4/50\n",
      "8185/8185 [==============================] - 32s 4ms/step - loss: 4.7923 - acc: 0.0127 - val_loss: 4.7792 - val_acc: 0.0108\n",
      "Epoch 5/50\n",
      "8185/8185 [==============================] - 32s 4ms/step - loss: 4.8013 - acc: 0.0137 - val_loss: 4.7770 - val_acc: 0.0108\n",
      "Epoch 6/50\n",
      "8185/8185 [==============================] - 33s 4ms/step - loss: 4.7940 - acc: 0.0144 - val_loss: 4.7783 - val_acc: 0.0177\n",
      "Epoch 7/50\n",
      "8185/8185 [==============================] - 34s 4ms/step - loss: 4.7868 - acc: 0.0148 - val_loss: 4.7770 - val_acc: 0.0108\n",
      "Epoch 8/50\n",
      "8185/8185 [==============================] - 34s 4ms/step - loss: 4.7903 - acc: 0.0144 - val_loss: 4.7747 - val_acc: 0.0118\n",
      "Epoch 9/50\n",
      "8185/8185 [==============================] - 31s 4ms/step - loss: 4.7836 - acc: 0.0151 - val_loss: 4.7985 - val_acc: 0.0128\n",
      "Epoch 10/50\n",
      "8185/8185 [==============================] - 32s 4ms/step - loss: 4.7811 - acc: 0.0183 - val_loss: 4.7694 - val_acc: 0.0138\n",
      "Epoch 11/50\n",
      "8185/8185 [==============================] - 31s 4ms/step - loss: 4.7784 - acc: 0.0188 - val_loss: 4.7708 - val_acc: 0.0167\n",
      "Epoch 12/50\n",
      "8185/8185 [==============================] - 32s 4ms/step - loss: 4.7653 - acc: 0.0180 - val_loss: 4.7624 - val_acc: 0.0128\n",
      "Epoch 13/50\n",
      "8185/8185 [==============================] - 32s 4ms/step - loss: 4.7661 - acc: 0.0197 - val_loss: 4.8038 - val_acc: 0.0197\n",
      "Epoch 14/50\n",
      "8185/8185 [==============================] - 33s 4ms/step - loss: 4.7662 - acc: 0.0194 - val_loss: 4.7656 - val_acc: 0.0187\n",
      "Epoch 15/50\n",
      "8185/8185 [==============================] - 45s 5ms/step - loss: 4.7560 - acc: 0.0228 - val_loss: 4.7482 - val_acc: 0.0177\n",
      "Epoch 16/50\n",
      "8185/8185 [==============================] - 45s 6ms/step - loss: 4.7461 - acc: 0.0241 - val_loss: 4.7115 - val_acc: 0.0197\n",
      "Epoch 17/50\n",
      "8185/8185 [==============================] - 45s 5ms/step - loss: 4.7361 - acc: 0.0266 - val_loss: 4.7204 - val_acc: 0.0227\n",
      "Epoch 18/50\n",
      "8185/8185 [==============================] - 45s 5ms/step - loss: 4.7367 - acc: 0.0253 - val_loss: 4.7365 - val_acc: 0.0197\n",
      "Epoch 19/50\n",
      "8185/8185 [==============================] - 46s 6ms/step - loss: 4.7296 - acc: 0.0261 - val_loss: 4.6951 - val_acc: 0.0296\n",
      "Epoch 20/50\n",
      "8185/8185 [==============================] - 37s 5ms/step - loss: 4.7252 - acc: 0.0265 - val_loss: 4.8998 - val_acc: 0.0227\n",
      "Epoch 21/50\n",
      "8185/8185 [==============================] - 35s 4ms/step - loss: 4.7017 - acc: 0.0291 - val_loss: 4.6611 - val_acc: 0.0305\n",
      "Epoch 22/50\n",
      "8185/8185 [==============================] - 39s 5ms/step - loss: 4.6996 - acc: 0.0274 - val_loss: 4.7103 - val_acc: 0.0325\n",
      "Epoch 23/50\n",
      "8185/8185 [==============================] - 41s 5ms/step - loss: 4.6708 - acc: 0.0332 - val_loss: 4.6720 - val_acc: 0.0325\n",
      "Epoch 24/50\n",
      "8185/8185 [==============================] - 39s 5ms/step - loss: 4.6673 - acc: 0.0365 - val_loss: 4.7009 - val_acc: 0.0325\n",
      "Epoch 25/50\n",
      "8185/8185 [==============================] - 38s 5ms/step - loss: 4.6810 - acc: 0.0357 - val_loss: 4.6983 - val_acc: 0.0345\n",
      "Epoch 26/50\n",
      "8185/8185 [==============================] - 33s 4ms/step - loss: 4.6732 - acc: 0.0362 - val_loss: 4.6860 - val_acc: 0.0355\n",
      "Epoch 27/50\n",
      "8185/8185 [==============================] - 31s 4ms/step - loss: 4.6650 - acc: 0.0384 - val_loss: 4.6920 - val_acc: 0.0315\n",
      "Epoch 28/50\n",
      "8185/8185 [==============================] - 31s 4ms/step - loss: 4.6712 - acc: 0.0363 - val_loss: 4.6764 - val_acc: 0.0335\n",
      "Epoch 29/50\n",
      "8185/8185 [==============================] - 32s 4ms/step - loss: 4.6547 - acc: 0.0397 - val_loss: 4.6871 - val_acc: 0.0325\n",
      "Epoch 30/50\n",
      "8185/8185 [==============================] - 32s 4ms/step - loss: 4.6840 - acc: 0.0352 - val_loss: 4.6694 - val_acc: 0.0365\n",
      "Epoch 31/50\n",
      "8185/8185 [==============================] - 34s 4ms/step - loss: 4.6587 - acc: 0.0392 - val_loss: 4.6510 - val_acc: 0.0394\n",
      "Epoch 32/50\n",
      "8185/8185 [==============================] - 33s 4ms/step - loss: 4.6619 - acc: 0.0414 - val_loss: 4.6921 - val_acc: 0.0315\n",
      "Epoch 33/50\n",
      "8185/8185 [==============================] - 33s 4ms/step - loss: 4.6351 - acc: 0.0412 - val_loss: 4.6794 - val_acc: 0.0365\n",
      "Epoch 34/50\n",
      "8185/8185 [==============================] - 39s 5ms/step - loss: 4.6569 - acc: 0.0413 - val_loss: 4.6866 - val_acc: 0.0345\n",
      "Epoch 35/50\n",
      "8185/8185 [==============================] - 45s 6ms/step - loss: 4.6415 - acc: 0.0422 - val_loss: 4.6994 - val_acc: 0.0305\n",
      "Epoch 36/50\n",
      "8185/8185 [==============================] - 44s 5ms/step - loss: 4.6340 - acc: 0.0456 - val_loss: 4.6629 - val_acc: 0.0384\n",
      "Epoch 37/50\n",
      "8185/8185 [==============================] - 46s 6ms/step - loss: 4.6465 - acc: 0.0453 - val_loss: 4.6627 - val_acc: 0.0414\n",
      "Epoch 38/50\n",
      "8185/8185 [==============================] - 43s 5ms/step - loss: 4.6364 - acc: 0.0422 - val_loss: 4.7022 - val_acc: 0.0443\n",
      "Epoch 39/50\n",
      "8185/8185 [==============================] - 44s 5ms/step - loss: 4.6125 - acc: 0.0489 - val_loss: 4.6666 - val_acc: 0.0394\n",
      "Epoch 40/50\n",
      "8185/8185 [==============================] - 41s 5ms/step - loss: 4.6129 - acc: 0.0483 - val_loss: 4.6566 - val_acc: 0.0463\n",
      "Epoch 41/50\n",
      "8185/8185 [==============================] - 42s 5ms/step - loss: 4.6293 - acc: 0.0476 - val_loss: 4.6341 - val_acc: 0.0463\n",
      "Epoch 42/50\n",
      "8185/8185 [==============================] - 33s 4ms/step - loss: 4.6274 - acc: 0.0489 - val_loss: 4.7177 - val_acc: 0.0473\n",
      "Epoch 43/50\n",
      "8185/8185 [==============================] - 32s 4ms/step - loss: 4.6165 - acc: 0.0511 - val_loss: 4.6918 - val_acc: 0.0483\n",
      "Epoch 44/50\n",
      "8185/8185 [==============================] - 32s 4ms/step - loss: 4.6200 - acc: 0.0497 - val_loss: 4.6545 - val_acc: 0.0512\n",
      "Epoch 45/50\n",
      "8185/8185 [==============================] - 32s 4ms/step - loss: 4.6116 - acc: 0.0530 - val_loss: 4.6682 - val_acc: 0.0443\n",
      "Epoch 46/50\n",
      "8185/8185 [==============================] - 32s 4ms/step - loss: 4.6207 - acc: 0.0469 - val_loss: 4.6723 - val_acc: 0.0374\n",
      "Epoch 47/50\n",
      "8185/8185 [==============================] - 32s 4ms/step - loss: 4.6025 - acc: 0.0535 - val_loss: 4.6990 - val_acc: 0.0512\n",
      "Epoch 48/50\n",
      "8185/8185 [==============================] - 31s 4ms/step - loss: 4.6055 - acc: 0.0528 - val_loss: 4.6829 - val_acc: 0.0414\n",
      "Epoch 49/50\n",
      "8185/8185 [==============================] - 31s 4ms/step - loss: 4.6051 - acc: 0.0527 - val_loss: 4.6638 - val_acc: 0.0443\n",
      "Epoch 50/50\n",
      "8185/8185 [==============================] - 31s 4ms/step - loss: 4.6004 - acc: 0.0557 - val_loss: 4.7086 - val_acc: 0.0433\n",
      "1015/1015 [==============================] - 1s 525us/step\n",
      "[INFO] accuracy: 4.33%\n",
      "[INFO] Loss: 4.708626940215162\n"
     ]
    }
   ],
   "source": [
    "model = Sequential()  \n",
    "model.add(Flatten(input_shape=train_data.shape[1:]))  \n",
    "model.add(Dense(256, activation='relu'))  \n",
    "model.add(Dropout(0.5))  \n",
    "model.add(Dense(num_classes, activation='softmax'))  \n",
    "   \n",
    "model.compile(optimizer='rmsprop',  \n",
    "              loss='categorical_crossentropy', metrics=['accuracy'])  \n",
    "   \n",
    "history = model.fit(train_data, train_labels,  \n",
    "          epochs=epochs,  \n",
    "          batch_size=batch_size,  \n",
    "          validation_data=(validation_data, validation_labels))  \n",
    "   \n",
    "model.save_weights('vgg16_sigmoid_model.h5')  \n",
    "   \n",
    "(eval_loss, eval_accuracy) = model.evaluate(  \n",
    "     validation_data, validation_labels, batch_size=batch_size, verbose=1)\n",
    "\n",
    "print(\"[INFO] accuracy: {:.2f}%\".format(eval_accuracy * 100))  \n",
    "print(\"[INFO] Loss: {}\".format(eval_loss)) "
   ]
  },
  {
   "cell_type": "code",
   "execution_count": 7,
   "metadata": {},
   "outputs": [
    {
     "data": {
      "image/png": "[encoded data removed]",
      "text/plain": [
       "<Figure size 432x288 with 2 Axes>"
      ]
     },
     "metadata": {},
     "output_type": "display_data"
    }
   ],
   "source": [
    "# summarize history for accuracy  \n",
    "   \n",
    "plt.subplot(211)  \n",
    "plt.plot(history.history['acc'])  \n",
    "plt.plot(history.history['val_acc'])  \n",
    "plt.title('model accuracy')  \n",
    "plt.ylabel('accuracy')  \n",
    "plt.xlabel('epoch')  \n",
    "plt.legend(['train', 'test'], loc='upper left')  \n",
    "  \n",
    "# summarize history for loss  \n",
    "   \n",
    "plt.subplot(212)  \n",
    "plt.plot(history.history['loss'])  \n",
    "plt.plot(history.history['val_loss'])  \n",
    "plt.title('model loss')  \n",
    "plt.ylabel('loss')  \n",
    "plt.xlabel('epoch')  \n",
    "plt.legend(['train', 'test'], loc='upper left')  \n",
    "plt.show() "
   ]
  }
 ],
 "metadata": {
  "kernelspec": {
   "display_name": "Python 3",
   "language": "python",
   "name": "python3"
  },
  "language_info": {
   "codemirror_mode": {
    "name": "ipython",
    "version": 3
   },
   "file_extension": ".py",
   "mimetype": "text/x-python",
   "name": "python",
   "nbconvert_exporter": "python",
   "pygments_lexer": "ipython3",
   "version": "3.6.5"
  }
 },
 "nbformat": 4,
 "nbformat_minor": 2
}
